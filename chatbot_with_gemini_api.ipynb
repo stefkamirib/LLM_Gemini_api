{
  "nbformat": 4,
  "nbformat_minor": 0,
  "metadata": {
    "colab": {
      "provenance": [],
      "collapsed_sections": [
        "hzfIL5WCjAoL",
        "G52gI8ncjtkz"
      ],
      "toc_visible": true,
      "authorship_tag": "ABX9TyOnC1PB7hz6+9ShMWXSgVa7",
      "include_colab_link": true
    },
    "kernelspec": {
      "name": "python3",
      "display_name": "Python 3"
    },
    "language_info": {
      "name": "python"
    }
  },
  "cells": [
    {
      "cell_type": "markdown",
      "metadata": {
        "id": "view-in-github",
        "colab_type": "text"
      },
      "source": [
        "<a href=\"https://colab.research.google.com/github/stefkamirib/LLM_Gemini_api/blob/main/chatbot_with_gemini_api.ipynb\" target=\"_parent\"><img src=\"https://colab.research.google.com/assets/colab-badge.svg\" alt=\"Open In Colab\"/></a>"
      ]
    },
    {
      "cell_type": "markdown",
      "source": [
        "## Instalando o SDK da Google"
      ],
      "metadata": {
        "id": "hzfIL5WCjAoL"
      }
    },
    {
      "cell_type": "code",
      "execution_count": 52,
      "metadata": {
        "id": "kxA0qdxni315"
      },
      "outputs": [],
      "source": [
        "!pip install -q -U google-generativeai"
      ]
    },
    {
      "cell_type": "code",
      "source": [
        "# Import the Python SDK\n",
        "import google.generativeai as genai\n",
        "\n",
        "GOOGLE_API_KEY='MY GOOGLE API KEY'\n",
        "genai.configure(api_key=GOOGLE_API_KEY)"
      ],
      "metadata": {
        "id": "UfuW6cM4i76o"
      },
      "execution_count": 53,
      "outputs": []
    },
    {
      "cell_type": "markdown",
      "source": [
        "## Listando os modelos disponíveis"
      ],
      "metadata": {
        "id": "G52gI8ncjtkz"
      }
    },
    {
      "cell_type": "code",
      "source": [
        "for m in genai.list_models():\n",
        "  if 'generateContent' in m.supported_generation_methods:\n",
        "    print(m.name)"
      ],
      "metadata": {
        "colab": {
          "base_uri": "https://localhost:8080/",
          "height": 146
        },
        "id": "6g_9-HL8jiLf",
        "outputId": "ba87f5d8-247e-4495-d0a7-f932f1dbbfd9"
      },
      "execution_count": 54,
      "outputs": [
        {
          "output_type": "stream",
          "name": "stdout",
          "text": [
            "models/gemini-1.0-pro\n",
            "models/gemini-1.0-pro-001\n",
            "models/gemini-1.0-pro-latest\n",
            "models/gemini-1.0-pro-vision-latest\n",
            "models/gemini-1.5-pro-latest\n",
            "models/gemini-pro\n",
            "models/gemini-pro-vision\n"
          ]
        }
      ]
    },
    {
      "cell_type": "markdown",
      "source": [
        "### Configurações de Desempenho"
      ],
      "metadata": {
        "id": "khnAufmjm3HW"
      }
    },
    {
      "cell_type": "code",
      "source": [
        "generation_config = {\n",
        "    \"candidate_count\": 1,\n",
        "    \"temperature\": 0.7\n",
        "}"
      ],
      "metadata": {
        "id": "07S8ORyIkY_l"
      },
      "execution_count": 55,
      "outputs": []
    },
    {
      "cell_type": "markdown",
      "source": [
        "### Configurações de Segurança"
      ],
      "metadata": {
        "id": "obiaquR9m7UF"
      }
    },
    {
      "cell_type": "code",
      "source": [
        "safety_config = {\n",
        "    \"HARASSMENT\": \"BLOCK_NONE\",\n",
        "    \"HATE\": \"BLOCK_NONE\",\n",
        "    \"SEXUAL\": \"BLOCK_NONE\",\n",
        "    \"DANGEROUS\": \"BLOCK_NONE\"\n",
        "}"
      ],
      "metadata": {
        "id": "UNBSvcLrmJI8"
      },
      "execution_count": 56,
      "outputs": []
    },
    {
      "cell_type": "markdown",
      "source": [
        "## Iniciando o Modelo\n"
      ],
      "metadata": {
        "id": "NKHlUY0LnfWK"
      }
    },
    {
      "cell_type": "code",
      "source": [
        "# Configurando o modelo com as configurações gerais e configurações de segurança\n",
        "\n",
        "model = genai.GenerativeModel(model_name=\"gemini-1.0-pro\",\n",
        "                              safety_settings=safety_config,\n",
        "                              generation_config=generation_config)"
      ],
      "metadata": {
        "id": "tmrTsTRDnjI_"
      },
      "execution_count": 64,
      "outputs": []
    },
    {
      "cell_type": "code",
      "source": [
        "# iniciando o modelo de chat com configurações de histórico\n",
        "\n",
        "chat = model.start_chat(history=[])"
      ],
      "metadata": {
        "id": "KkTrGSmRwUXx"
      },
      "execution_count": 65,
      "outputs": []
    },
    {
      "cell_type": "code",
      "source": [
        "# Iniciando o loop que nos permite ter uma conversa com o chat até o momento de 'stop' (quando a palavra 'tchau' surgir)\n",
        "\n",
        "prompt = input(\"Digite aqui:  \")\n",
        "\n",
        "while prompt != \"Tchau\":\n",
        "  response = chat.send_message(prompt)\n",
        "  print(\"Resposta: \", response.text, \"\\n\")\n",
        "  prompt = input(\"Digite aqui: \")"
      ],
      "metadata": {
        "id": "Cv6t5RaX3jfq"
      },
      "execution_count": null,
      "outputs": []
    },
    {
      "cell_type": "code",
      "source": [],
      "metadata": {
        "id": "rwpDzm3D33bi"
      },
      "execution_count": null,
      "outputs": []
    }
  ]
}